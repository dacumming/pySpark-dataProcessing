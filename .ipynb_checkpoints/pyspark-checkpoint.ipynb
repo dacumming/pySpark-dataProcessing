{
 "cells": [
  {
   "cell_type": "code",
   "execution_count": 4,
   "metadata": {},
   "outputs": [],
   "source": [
    "from pyspark.sql import SparkSession\n",
    "import os"
   ]
  },
  {
   "cell_type": "code",
   "execution_count": 5,
   "metadata": {},
   "outputs": [],
   "source": [
    "spark=SparkSession.builder.appName('dataProcessing').getOrCreate()"
   ]
  },
  {
   "cell_type": "code",
   "execution_count": 6,
   "metadata": {},
   "outputs": [
    {
     "data": {
      "text/html": [
       "\n",
       "            <div>\n",
       "                <p><b>SparkSession - in-memory</b></p>\n",
       "                \n",
       "        <div>\n",
       "            <p><b>SparkContext</b></p>\n",
       "\n",
       "            <p><a href=\"http://host.docker.internal:4040\">Spark UI</a></p>\n",
       "\n",
       "            <dl>\n",
       "              <dt>Version</dt>\n",
       "                <dd><code>v3.2.1</code></dd>\n",
       "              <dt>Master</dt>\n",
       "                <dd><code>local[*]</code></dd>\n",
       "              <dt>AppName</dt>\n",
       "                <dd><code>dataProcessing</code></dd>\n",
       "            </dl>\n",
       "        </div>\n",
       "        \n",
       "            </div>\n",
       "        "
      ],
      "text/plain": [
       "<pyspark.sql.session.SparkSession at 0x256830c7198>"
      ]
     },
     "execution_count": 6,
     "metadata": {},
     "output_type": "execute_result"
    }
   ],
   "source": [
    "spark"
   ]
  },
  {
   "cell_type": "code",
   "execution_count": 7,
   "metadata": {},
   "outputs": [],
   "source": [
    "df=spark.read.csv(os.path.join(os.getcwd(),'diabetes.csv'))"
   ]
  },
  {
   "cell_type": "code",
   "execution_count": 9,
   "metadata": {},
   "outputs": [
    {
     "name": "stdout",
     "output_type": "stream",
     "text": [
      "+---+-----+------+------+------+-----------+------+-----+----+------+--------+--------+\n",
      "|_c0|  _c1|   _c2|   _c3|   _c4|        _c5|   _c6|  _c7| _c8|   _c9|    _c10|    _c11|\n",
      "+---+-----+------+------+------+-----------+------+-----+----+------+--------+--------+\n",
      "| id|  age|gender|height|weight|cholesterol|  gluc|smoke|alco|active|pressure|diabetes|\n",
      "|  0|18393|     f|   168|  62.0|        low|   low|    0|   0|     1|  110/80|       0|\n",
      "|  1|20228|     m|   156|  85.0|       high|   low|    0|   0|     1|  140/90|       0|\n",
      "|  2|18857|     m|   165|  64.0|       high|   low|    0|   0|     0|  130/70|       0|\n",
      "|  3|17623|     f|   169|  82.0|        low|   low|    0|   0|     1| 150/100|       0|\n",
      "|  4|17474|     m|   156|  56.0|        low|   low|    0|   0|     0|  100/60|       0|\n",
      "|  8|21914|     m|   151|  67.0|     medium|medium|    0|   0|     0|  120/80|       1|\n",
      "|  9|22113|     m|   157|  93.0|       high|   low|    0|   0|     1|  130/80|       1|\n",
      "| 12|22584|     f|   178|  95.0|       high|  high|    0|   0|     1|  130/90|       1|\n",
      "| 13|17668|     m|   158|  71.0|        low|   low|    0|   0|     1|  110/70|       0|\n",
      "| 14|19834|     m|   164|  68.0|        low|   low|    0|   0|     0|  110/60|       0|\n",
      "| 15|22530|     m|   169|  80.0|        low|   low|    0|   0|     1|  120/80|       0|\n",
      "| 16|18815|     f|   173|  60.0|        low|   low|    0|   0|     1|  120/80|       0|\n",
      "| 18|14791|     f|   165|  60.0|        low|   low|    0|   0|     0|  120/80|       0|\n",
      "| 21|19809|     m|   158|  78.0|        low|   low|    0|   0|     1|  110/70|       0|\n",
      "| 23|14532|     f|   181|  95.0|        low|   low|    1|   1|     1|  130/90|       0|\n",
      "| 24|16782|     f|   172| 112.0|        low|   low|    0|   0|     0|  120/80|       1|\n",
      "| 25|21296|     m|   170|  75.0|        low|   low|    0|   0|     0|  130/70|       0|\n",
      "| 27|16747|     m|   158|  52.0|        low|  high|    0|   0|     1|  110/70|       0|\n",
      "| 28|17482|     m|   154|  68.0|        low|   low|    0|   0|     0|  100/70|       0|\n",
      "+---+-----+------+------+------+-----------+------+-----+----+------+--------+--------+\n",
      "only showing top 20 rows\n",
      "\n"
     ]
    }
   ],
   "source": [
    "df.show()"
   ]
  },
  {
   "cell_type": "code",
   "execution_count": 17,
   "metadata": {},
   "outputs": [],
   "source": [
    "df=spark.read.option('header','true').csv(os.path.join(os.getcwd(),'diabetes.csv'),inferSchema=True)"
   ]
  },
  {
   "cell_type": "code",
   "execution_count": 19,
   "metadata": {},
   "outputs": [
    {
     "data": {
      "text/plain": [
       "[Row(id=0, age=18393, gender='f', height=168, weight=62.0, cholesterol='low', gluc='low', smoke=0, alco=0, active=1, pressure='110/80', diabetes=0),\n",
       " Row(id=1, age=20228, gender='m', height=156, weight=85.0, cholesterol='high', gluc='low', smoke=0, alco=0, active=1, pressure='140/90', diabetes=0),\n",
       " Row(id=2, age=18857, gender='m', height=165, weight=64.0, cholesterol='high', gluc='low', smoke=0, alco=0, active=0, pressure='130/70', diabetes=0)]"
      ]
     },
     "execution_count": 19,
     "metadata": {},
     "output_type": "execute_result"
    }
   ],
   "source": [
    "df.head(3)"
   ]
  },
  {
   "cell_type": "code",
   "execution_count": 20,
   "metadata": {},
   "outputs": [
    {
     "name": "stdout",
     "output_type": "stream",
     "text": [
      "root\n",
      " |-- id: integer (nullable = true)\n",
      " |-- age: integer (nullable = true)\n",
      " |-- gender: string (nullable = true)\n",
      " |-- height: integer (nullable = true)\n",
      " |-- weight: double (nullable = true)\n",
      " |-- cholesterol: string (nullable = true)\n",
      " |-- gluc: string (nullable = true)\n",
      " |-- smoke: integer (nullable = true)\n",
      " |-- alco: integer (nullable = true)\n",
      " |-- active: integer (nullable = true)\n",
      " |-- pressure: string (nullable = true)\n",
      " |-- diabetes: integer (nullable = true)\n",
      "\n"
     ]
    }
   ],
   "source": [
    "df.printSchema()"
   ]
  },
  {
   "cell_type": "code",
   "execution_count": 21,
   "metadata": {},
   "outputs": [
    {
     "name": "stdout",
     "output_type": "stream",
     "text": [
      "+---+-----+------+------+------+-----------+------+-----+----+------+--------+--------+\n",
      "| id|  age|gender|height|weight|cholesterol|  gluc|smoke|alco|active|pressure|diabetes|\n",
      "+---+-----+------+------+------+-----------+------+-----+----+------+--------+--------+\n",
      "|  0|18393|     f|   168|  62.0|        low|   low|    0|   0|     1|  110/80|       0|\n",
      "|  1|20228|     m|   156|  85.0|       high|   low|    0|   0|     1|  140/90|       0|\n",
      "|  2|18857|     m|   165|  64.0|       high|   low|    0|   0|     0|  130/70|       0|\n",
      "|  3|17623|     f|   169|  82.0|        low|   low|    0|   0|     1| 150/100|       0|\n",
      "|  4|17474|     m|   156|  56.0|        low|   low|    0|   0|     0|  100/60|       0|\n",
      "|  8|21914|     m|   151|  67.0|     medium|medium|    0|   0|     0|  120/80|       1|\n",
      "|  9|22113|     m|   157|  93.0|       high|   low|    0|   0|     1|  130/80|       1|\n",
      "| 12|22584|     f|   178|  95.0|       high|  high|    0|   0|     1|  130/90|       1|\n",
      "| 13|17668|     m|   158|  71.0|        low|   low|    0|   0|     1|  110/70|       0|\n",
      "| 14|19834|     m|   164|  68.0|        low|   low|    0|   0|     0|  110/60|       0|\n",
      "| 15|22530|     m|   169|  80.0|        low|   low|    0|   0|     1|  120/80|       0|\n",
      "| 16|18815|     f|   173|  60.0|        low|   low|    0|   0|     1|  120/80|       0|\n",
      "| 18|14791|     f|   165|  60.0|        low|   low|    0|   0|     0|  120/80|       0|\n",
      "| 21|19809|     m|   158|  78.0|        low|   low|    0|   0|     1|  110/70|       0|\n",
      "| 23|14532|     f|   181|  95.0|        low|   low|    1|   1|     1|  130/90|       0|\n",
      "| 24|16782|     f|   172| 112.0|        low|   low|    0|   0|     0|  120/80|       1|\n",
      "| 25|21296|     m|   170|  75.0|        low|   low|    0|   0|     0|  130/70|       0|\n",
      "| 27|16747|     m|   158|  52.0|        low|  high|    0|   0|     1|  110/70|       0|\n",
      "| 28|17482|     m|   154|  68.0|        low|   low|    0|   0|     0|  100/70|       0|\n",
      "| 29|21755|     f|   162|  56.0|        low|   low|    1|   0|     1|  120/70|       0|\n",
      "+---+-----+------+------+------+-----------+------+-----+----+------+--------+--------+\n",
      "only showing top 20 rows\n",
      "\n"
     ]
    }
   ],
   "source": [
    "df.show()"
   ]
  },
  {
   "cell_type": "code",
   "execution_count": 8,
   "metadata": {},
   "outputs": [],
   "source": [
    "df=spark.read.csv(os.path.join(os.getcwd(),'diabetes.csv'),\n",
    "                  header=True,\n",
    "                  inferSchema=True)"
   ]
  },
  {
   "cell_type": "code",
   "execution_count": 23,
   "metadata": {},
   "outputs": [
    {
     "name": "stdout",
     "output_type": "stream",
     "text": [
      "root\n",
      " |-- id: integer (nullable = true)\n",
      " |-- age: integer (nullable = true)\n",
      " |-- gender: string (nullable = true)\n",
      " |-- height: integer (nullable = true)\n",
      " |-- weight: double (nullable = true)\n",
      " |-- cholesterol: string (nullable = true)\n",
      " |-- gluc: string (nullable = true)\n",
      " |-- smoke: integer (nullable = true)\n",
      " |-- alco: integer (nullable = true)\n",
      " |-- active: integer (nullable = true)\n",
      " |-- pressure: string (nullable = true)\n",
      " |-- diabetes: integer (nullable = true)\n",
      "\n"
     ]
    }
   ],
   "source": [
    "df.printSchema()"
   ]
  },
  {
   "cell_type": "code",
   "execution_count": 24,
   "metadata": {},
   "outputs": [
    {
     "data": {
      "text/plain": [
       "['id',\n",
       " 'age',\n",
       " 'gender',\n",
       " 'height',\n",
       " 'weight',\n",
       " 'cholesterol',\n",
       " 'gluc',\n",
       " 'smoke',\n",
       " 'alco',\n",
       " 'active',\n",
       " 'pressure',\n",
       " 'diabetes']"
      ]
     },
     "execution_count": 24,
     "metadata": {},
     "output_type": "execute_result"
    }
   ],
   "source": [
    "df.columns"
   ]
  },
  {
   "cell_type": "code",
   "execution_count": 28,
   "metadata": {},
   "outputs": [
    {
     "name": "stdout",
     "output_type": "stream",
     "text": [
      "+-----------+------+\n",
      "|cholesterol|active|\n",
      "+-----------+------+\n",
      "|        low|     1|\n",
      "|       high|     1|\n",
      "|       high|     0|\n",
      "|        low|     1|\n",
      "|        low|     0|\n",
      "|     medium|     0|\n",
      "|       high|     1|\n",
      "|       high|     1|\n",
      "|        low|     1|\n",
      "|        low|     0|\n",
      "|        low|     1|\n",
      "|        low|     1|\n",
      "|        low|     0|\n",
      "|        low|     1|\n",
      "|        low|     1|\n",
      "|        low|     0|\n",
      "|        low|     0|\n",
      "|        low|     1|\n",
      "|        low|     0|\n",
      "|        low|     1|\n",
      "+-----------+------+\n",
      "only showing top 20 rows\n",
      "\n"
     ]
    }
   ],
   "source": [
    "df.select(['cholesterol','active']).show()"
   ]
  },
  {
   "cell_type": "code",
   "execution_count": 29,
   "metadata": {},
   "outputs": [
    {
     "data": {
      "text/plain": [
       "pyspark.sql.dataframe.DataFrame"
      ]
     },
     "execution_count": 29,
     "metadata": {},
     "output_type": "execute_result"
    }
   ],
   "source": [
    "type(df.select(['cholesterol','active']))"
   ]
  },
  {
   "cell_type": "code",
   "execution_count": 31,
   "metadata": {},
   "outputs": [
    {
     "data": {
      "text/plain": [
       "pyspark.sql.column.Column"
      ]
     },
     "execution_count": 31,
     "metadata": {},
     "output_type": "execute_result"
    }
   ],
   "source": [
    "type(df['gluc']) #USELESS"
   ]
  },
  {
   "cell_type": "code",
   "execution_count": 32,
   "metadata": {},
   "outputs": [
    {
     "data": {
      "text/plain": [
       "[('id', 'int'),\n",
       " ('age', 'int'),\n",
       " ('gender', 'string'),\n",
       " ('height', 'int'),\n",
       " ('weight', 'double'),\n",
       " ('cholesterol', 'string'),\n",
       " ('gluc', 'string'),\n",
       " ('smoke', 'int'),\n",
       " ('alco', 'int'),\n",
       " ('active', 'int'),\n",
       " ('pressure', 'string'),\n",
       " ('diabetes', 'int')]"
      ]
     },
     "execution_count": 32,
     "metadata": {},
     "output_type": "execute_result"
    }
   ],
   "source": [
    "df.dtypes"
   ]
  },
  {
   "cell_type": "code",
   "execution_count": 34,
   "metadata": {},
   "outputs": [
    {
     "name": "stdout",
     "output_type": "stream",
     "text": [
      "+-------+------------------+------------------+------+------------------+------------------+-----------+------+-------------------+--------------------+------------------+--------+------------------+\n",
      "|summary|                id|               age|gender|            height|            weight|cholesterol|  gluc|              smoke|                alco|            active|pressure|          diabetes|\n",
      "+-------+------------------+------------------+------+------------------+------------------+-----------+------+-------------------+--------------------+------------------+--------+------------------+\n",
      "|  count|             70000|             70000| 70000|             70000|             70000|      70000| 70000|              70000|               70000|             70000|   70000|             70000|\n",
      "|   mean|        49972.4199|19468.865814285713|  null|164.35922857142856|          74.20569|       null|  null|0.08812857142857143|0.053771428571428574|0.8037285714285715|    null|              0.25|\n",
      "| stddev|28851.302323172742| 2467.251667241397|  null| 8.210126364538075|14.395756678511347|       null|  null|0.28348381676993667| 0.22556770360410555|0.3971790635049267|    null|0.4330157948732282|\n",
      "|    min|                 0|             10798|     f|                55|              10.0|       high|  high|                  0|                   0|                 0| -100/70|                 0|\n",
      "|    max|             99999|             23713|     m|               250|             200.0|     medium|medium|                  1|                   1|                 1|   99/71|                 1|\n",
      "+-------+------------------+------------------+------+------------------+------------------+-----------+------+-------------------+--------------------+------------------+--------+------------------+\n",
      "\n"
     ]
    }
   ],
   "source": [
    "df.describe().show()"
   ]
  },
  {
   "cell_type": "code",
   "execution_count": 41,
   "metadata": {},
   "outputs": [],
   "source": [
    "df = df.withColumn('suma',df['active']+df['alco']+df['smoke'])"
   ]
  },
  {
   "cell_type": "code",
   "execution_count": 42,
   "metadata": {},
   "outputs": [
    {
     "name": "stdout",
     "output_type": "stream",
     "text": [
      "+---+-----+------+------+------+-----------+------+-----+----+------+--------+--------+----+\n",
      "| id|  age|gender|height|weight|cholesterol|  gluc|smoke|alco|active|pressure|diabetes|suma|\n",
      "+---+-----+------+------+------+-----------+------+-----+----+------+--------+--------+----+\n",
      "|  0|18393|     f|   168|  62.0|        low|   low|    0|   0|     1|  110/80|       0|   1|\n",
      "|  1|20228|     m|   156|  85.0|       high|   low|    0|   0|     1|  140/90|       0|   1|\n",
      "|  2|18857|     m|   165|  64.0|       high|   low|    0|   0|     0|  130/70|       0|   0|\n",
      "|  3|17623|     f|   169|  82.0|        low|   low|    0|   0|     1| 150/100|       0|   1|\n",
      "|  4|17474|     m|   156|  56.0|        low|   low|    0|   0|     0|  100/60|       0|   0|\n",
      "|  8|21914|     m|   151|  67.0|     medium|medium|    0|   0|     0|  120/80|       1|   0|\n",
      "|  9|22113|     m|   157|  93.0|       high|   low|    0|   0|     1|  130/80|       1|   1|\n",
      "| 12|22584|     f|   178|  95.0|       high|  high|    0|   0|     1|  130/90|       1|   1|\n",
      "| 13|17668|     m|   158|  71.0|        low|   low|    0|   0|     1|  110/70|       0|   1|\n",
      "| 14|19834|     m|   164|  68.0|        low|   low|    0|   0|     0|  110/60|       0|   0|\n",
      "| 15|22530|     m|   169|  80.0|        low|   low|    0|   0|     1|  120/80|       0|   1|\n",
      "| 16|18815|     f|   173|  60.0|        low|   low|    0|   0|     1|  120/80|       0|   1|\n",
      "| 18|14791|     f|   165|  60.0|        low|   low|    0|   0|     0|  120/80|       0|   0|\n",
      "| 21|19809|     m|   158|  78.0|        low|   low|    0|   0|     1|  110/70|       0|   1|\n",
      "| 23|14532|     f|   181|  95.0|        low|   low|    1|   1|     1|  130/90|       0|   3|\n",
      "| 24|16782|     f|   172| 112.0|        low|   low|    0|   0|     0|  120/80|       1|   0|\n",
      "| 25|21296|     m|   170|  75.0|        low|   low|    0|   0|     0|  130/70|       0|   0|\n",
      "| 27|16747|     m|   158|  52.0|        low|  high|    0|   0|     1|  110/70|       0|   1|\n",
      "| 28|17482|     m|   154|  68.0|        low|   low|    0|   0|     0|  100/70|       0|   0|\n",
      "| 29|21755|     f|   162|  56.0|        low|   low|    1|   0|     1|  120/70|       0|   2|\n",
      "+---+-----+------+------+------+-----------+------+-----+----+------+--------+--------+----+\n",
      "only showing top 20 rows\n",
      "\n"
     ]
    }
   ],
   "source": [
    "df.show()"
   ]
  },
  {
   "cell_type": "code",
   "execution_count": 46,
   "metadata": {},
   "outputs": [],
   "source": [
    "df = df.drop('suma')"
   ]
  },
  {
   "cell_type": "code",
   "execution_count": 47,
   "metadata": {},
   "outputs": [
    {
     "name": "stdout",
     "output_type": "stream",
     "text": [
      "+---+-----+------+------+------+-----------+------+-----+----+------+--------+--------+\n",
      "| id|  age|gender|height|weight|cholesterol|  gluc|smoke|alco|active|pressure|diabetes|\n",
      "+---+-----+------+------+------+-----------+------+-----+----+------+--------+--------+\n",
      "|  0|18393|     f|   168|  62.0|        low|   low|    0|   0|     1|  110/80|       0|\n",
      "|  1|20228|     m|   156|  85.0|       high|   low|    0|   0|     1|  140/90|       0|\n",
      "|  2|18857|     m|   165|  64.0|       high|   low|    0|   0|     0|  130/70|       0|\n",
      "|  3|17623|     f|   169|  82.0|        low|   low|    0|   0|     1| 150/100|       0|\n",
      "|  4|17474|     m|   156|  56.0|        low|   low|    0|   0|     0|  100/60|       0|\n",
      "|  8|21914|     m|   151|  67.0|     medium|medium|    0|   0|     0|  120/80|       1|\n",
      "|  9|22113|     m|   157|  93.0|       high|   low|    0|   0|     1|  130/80|       1|\n",
      "| 12|22584|     f|   178|  95.0|       high|  high|    0|   0|     1|  130/90|       1|\n",
      "| 13|17668|     m|   158|  71.0|        low|   low|    0|   0|     1|  110/70|       0|\n",
      "| 14|19834|     m|   164|  68.0|        low|   low|    0|   0|     0|  110/60|       0|\n",
      "| 15|22530|     m|   169|  80.0|        low|   low|    0|   0|     1|  120/80|       0|\n",
      "| 16|18815|     f|   173|  60.0|        low|   low|    0|   0|     1|  120/80|       0|\n",
      "| 18|14791|     f|   165|  60.0|        low|   low|    0|   0|     0|  120/80|       0|\n",
      "| 21|19809|     m|   158|  78.0|        low|   low|    0|   0|     1|  110/70|       0|\n",
      "| 23|14532|     f|   181|  95.0|        low|   low|    1|   1|     1|  130/90|       0|\n",
      "| 24|16782|     f|   172| 112.0|        low|   low|    0|   0|     0|  120/80|       1|\n",
      "| 25|21296|     m|   170|  75.0|        low|   low|    0|   0|     0|  130/70|       0|\n",
      "| 27|16747|     m|   158|  52.0|        low|  high|    0|   0|     1|  110/70|       0|\n",
      "| 28|17482|     m|   154|  68.0|        low|   low|    0|   0|     0|  100/70|       0|\n",
      "| 29|21755|     f|   162|  56.0|        low|   low|    1|   0|     1|  120/70|       0|\n",
      "+---+-----+------+------+------+-----------+------+-----+----+------+--------+--------+\n",
      "only showing top 20 rows\n",
      "\n"
     ]
    }
   ],
   "source": [
    "df.show()"
   ]
  },
  {
   "cell_type": "code",
   "execution_count": 48,
   "metadata": {},
   "outputs": [
    {
     "data": {
      "text/plain": [
       "DataFrame[id: int, age: int, gender: string, height: int, weight: double, cholesterol: string, glucose: string, smoke: int, alco: int, active: int, pressure: string, diabetes: int]"
      ]
     },
     "execution_count": 48,
     "metadata": {},
     "output_type": "execute_result"
    }
   ],
   "source": [
    "df.withColumnRenamed('gluc','glucose')"
   ]
  },
  {
   "cell_type": "code",
   "execution_count": 55,
   "metadata": {},
   "outputs": [
    {
     "name": "stdout",
     "output_type": "stream",
     "text": [
      "+-------+-----------+------+------------------+\n",
      "|summary|cholesterol|  gluc|             smoke|\n",
      "+-------+-----------+------+------------------+\n",
      "|  count|      55115| 55115|             55115|\n",
      "|   mean|       null|  null|0.0890864555928513|\n",
      "| stddev|       null|  null|0.2848710786065903|\n",
      "|    min|       high|  high|                 0|\n",
      "|    max|     medium|medium|                 1|\n",
      "+-------+-----------+------+------------------+\n",
      "\n"
     ]
    }
   ],
   "source": [
    "df.select(['cholesterol', 'gluc','smoke']).na.drop().describe().show()"
   ]
  },
  {
   "cell_type": "code",
   "execution_count": 54,
   "metadata": {},
   "outputs": [
    {
     "name": "stdout",
     "output_type": "stream",
     "text": [
      "+-------+-----------+------+-------------------+\n",
      "|summary|cholesterol|  gluc|              smoke|\n",
      "+-------+-----------+------+-------------------+\n",
      "|  count|      55199| 55199|              69916|\n",
      "|   mean|       null|  null| 0.0881486355054637|\n",
      "| stddev|       null|  null|0.28351296835175943|\n",
      "|    min|       high|  high|                  0|\n",
      "|    max|     medium|medium|                  1|\n",
      "+-------+-----------+------+-------------------+\n",
      "\n"
     ]
    }
   ],
   "source": [
    "df.select(['cholesterol', 'gluc','smoke']).na.drop(how='all').describe().show()"
   ]
  },
  {
   "cell_type": "code",
   "execution_count": 10,
   "metadata": {},
   "outputs": [
    {
     "name": "stdout",
     "output_type": "stream",
     "text": [
      "+-------+-----------+------+------------------+\n",
      "|summary|cholesterol|  gluc|             smoke|\n",
      "+-------+-----------+------+------------------+\n",
      "|  count|      55199| 55199|             55115|\n",
      "|   mean|       null|  null|0.0890864555928513|\n",
      "| stddev|       null|  null|0.2848710786065903|\n",
      "|    min|       high|  high|                 0|\n",
      "|    max|     medium|medium|                 1|\n",
      "+-------+-----------+------+------------------+\n",
      "\n"
     ]
    }
   ],
   "source": [
    "df.select(['cholesterol', 'gluc','smoke']).na.drop(thresh=2,subset=['cholesterol', 'gluc']).describe().show()"
   ]
  },
  {
   "cell_type": "code",
   "execution_count": 18,
   "metadata": {},
   "outputs": [
    {
     "name": "stdout",
     "output_type": "stream",
     "text": [
      "+-------+--------------+--------------+-------------------+\n",
      "|summary|   cholesterol|          gluc|              smoke|\n",
      "+-------+--------------+--------------+-------------------+\n",
      "|  count|         70000|         70000|              69916|\n",
      "|   mean|          null|          null| 0.0881486355054637|\n",
      "| stddev|          null|          null|0.28351296835175943|\n",
      "|    min|          high|          high|                  0|\n",
      "|    max|missing values|missing values|                  1|\n",
      "+-------+--------------+--------------+-------------------+\n",
      "\n"
     ]
    }
   ],
   "source": [
    "df.select(['cholesterol', 'gluc','smoke'])\\\n",
    "  .na.fill('missing values',['cholesterol', 'gluc'])\\\n",
    "  .describe()\\\n",
    "  .show()"
   ]
  },
  {
   "cell_type": "code",
   "execution_count": 19,
   "metadata": {},
   "outputs": [],
   "source": [
    "from pyspark.ml.feature import Imputer\n",
    "imputer = Imputer(\n",
    "    inputCols=['smoke'],\n",
    "    outputCols=['{}_imputed'.format(c) for c in ['smoke']]    \n",
    "    ).setStrategy('mean')"
   ]
  },
  {
   "cell_type": "code",
   "execution_count": 22,
   "metadata": {},
   "outputs": [
    {
     "name": "stdout",
     "output_type": "stream",
     "text": [
      "+-------+-----------+------+-------------------+-------------------+\n",
      "|summary|cholesterol|  gluc|              smoke|      smoke_imputed|\n",
      "+-------+-----------+------+-------------------+-------------------+\n",
      "|  count|      55199| 55199|              69916|              70000|\n",
      "|   mean|       null|  null| 0.0881486355054637|0.08804285714285714|\n",
      "| stddev|       null|  null|0.28351296835175943| 0.2833592410423808|\n",
      "|    min|       high|  high|                  0|                  0|\n",
      "|    max|     medium|medium|                  1|                  1|\n",
      "+-------+-----------+------+-------------------+-------------------+\n",
      "\n"
     ]
    }
   ],
   "source": [
    "imputer.fit(df.select(['cholesterol', 'gluc','smoke']))\\\n",
    "       .transform(df.select(['cholesterol', 'gluc','smoke']))\\\n",
    "       .describe().show()"
   ]
  },
  {
   "cell_type": "code",
   "execution_count": 23,
   "metadata": {},
   "outputs": [],
   "source": [
    "df2 = df.select(['gender','height','weight'])"
   ]
  },
  {
   "cell_type": "code",
   "execution_count": 27,
   "metadata": {},
   "outputs": [
    {
     "name": "stdout",
     "output_type": "stream",
     "text": [
      "+-------+------+------------------+------------------+\n",
      "|summary|gender|            height|            weight|\n",
      "+-------+------+------------------+------------------+\n",
      "|  count| 41146|             41146|             41146|\n",
      "|   mean|  null|166.15816847324163| 82.92581077139943|\n",
      "| stddev|  null| 8.337466428558987|12.017465696416828|\n",
      "|    min|     f|                55|              70.0|\n",
      "|    max|     m|               198|             200.0|\n",
      "+-------+------+------------------+------------------+\n",
      "\n"
     ]
    }
   ],
   "source": [
    "df2.filter((df2['weight']>=70) & (df2['height']<200)).describe().show()"
   ]
  },
  {
   "cell_type": "code",
   "execution_count": 41,
   "metadata": {},
   "outputs": [
    {
     "name": "stdout",
     "output_type": "stream",
     "text": [
      "+------+------------------+-----------------+\n",
      "|gender|       avg(height)|      avg(weight)|\n",
      "+------+------------------+-----------------+\n",
      "|     f|169.94789538210054|77.25730690641602|\n",
      "|     m|161.35561168460356|72.56560509554139|\n",
      "+------+------------------+-----------------+\n",
      "\n"
     ]
    }
   ],
   "source": [
    "from pyspark.sql.functions import col, asc,desc\n",
    "df2.groupBy('gender').mean().sort(col('avg(height)').desc()).show()"
   ]
  },
  {
   "cell_type": "code",
   "execution_count": 34,
   "metadata": {},
   "outputs": [
    {
     "name": "stdout",
     "output_type": "stream",
     "text": [
      "+-----------------+\n",
      "|      sum(weight)|\n",
      "+-----------------+\n",
      "|5194398.300000001|\n",
      "+-----------------+\n",
      "\n"
     ]
    }
   ],
   "source": [
    "df.agg({'weight':'sum'}).show()"
   ]
  },
  {
   "cell_type": "code",
   "execution_count": 49,
   "metadata": {},
   "outputs": [],
   "source": [
    "from pyspark.ml.feature import VectorAssembler\n",
    "featureassembler = VectorAssembler(inputCols=['age','height'],\n",
    "                                   outputCol='features')"
   ]
  },
  {
   "cell_type": "code",
   "execution_count": 52,
   "metadata": {},
   "outputs": [],
   "source": [
    "df3 = featureassembler.transform(df)"
   ]
  },
  {
   "cell_type": "code",
   "execution_count": 53,
   "metadata": {},
   "outputs": [
    {
     "name": "stdout",
     "output_type": "stream",
     "text": [
      "+---+-----+------+------+------+-----------+------+-----+----+------+--------+--------+---------------+\n",
      "| id|  age|gender|height|weight|cholesterol|  gluc|smoke|alco|active|pressure|diabetes|       features|\n",
      "+---+-----+------+------+------+-----------+------+-----+----+------+--------+--------+---------------+\n",
      "|  0|18393|     f|   168|  62.0|        low|   low|    0|   0|     1|  110/80|       0|[18393.0,168.0]|\n",
      "|  1|20228|     m|   156|  85.0|       high|   low|    0|   0|     1|  140/90|       0|[20228.0,156.0]|\n",
      "|  2|18857|     m|   165|  64.0|       high|   low|    0|   0|     0|  130/70|       0|[18857.0,165.0]|\n",
      "|  3|17623|     f|   169|  82.0|        low|   low|    0|   0|     1| 150/100|       0|[17623.0,169.0]|\n",
      "|  4|17474|     m|   156|  56.0|        low|   low|    0|   0|     0|  100/60|       0|[17474.0,156.0]|\n",
      "|  8|21914|     m|   151|  67.0|     medium|medium|    0|   0|     0|  120/80|       1|[21914.0,151.0]|\n",
      "|  9|22113|     m|   157|  93.0|       high|   low|    0|   0|     1|  130/80|       1|[22113.0,157.0]|\n",
      "| 12|22584|     f|   178|  95.0|       high|  high|    0|   0|     1|  130/90|       1|[22584.0,178.0]|\n",
      "| 13|17668|     m|   158|  71.0|        low|   low|    0|   0|     1|  110/70|       0|[17668.0,158.0]|\n",
      "| 14|19834|     m|   164|  68.0|        low|   low|    0|   0|     0|  110/60|       0|[19834.0,164.0]|\n",
      "| 15|22530|     m|   169|  80.0|        low|   low| null|   0|     1|  120/80|       0|[22530.0,169.0]|\n",
      "| 16|18815|     f|   173|  60.0|        low|   low| null|   0|     1|  120/80|       0|[18815.0,173.0]|\n",
      "| 18|14791|     f|   165|  60.0|        low|   low| null|   0|     0|  120/80|       0|[14791.0,165.0]|\n",
      "| 21|19809|     m|   158|  78.0|        low|   low| null|   0|     1|  110/70|       0|[19809.0,158.0]|\n",
      "| 23|14532|     f|   181|  95.0|        low|   low| null|   1|     1|  130/90|       0|[14532.0,181.0]|\n",
      "| 24|16782|     f|   172| 112.0|        low|   low| null|   0|     0|  120/80|       1|[16782.0,172.0]|\n",
      "| 25|21296|     m|   170|  75.0|        low|   low| null|   0|     0|  130/70|       0|[21296.0,170.0]|\n",
      "| 27|16747|     m|   158|  52.0|        low|  high| null|   0|     1|  110/70|       0|[16747.0,158.0]|\n",
      "| 28|17482|     m|   154|  68.0|        low|   low| null|   0|     0|  100/70|       0|[17482.0,154.0]|\n",
      "| 29|21755|     f|   162|  56.0|        low|   low| null|   0|     1|  120/70|       0|[21755.0,162.0]|\n",
      "+---+-----+------+------+------+-----------+------+-----+----+------+--------+--------+---------------+\n",
      "only showing top 20 rows\n",
      "\n"
     ]
    }
   ],
   "source": [
    "df3.show()"
   ]
  },
  {
   "cell_type": "code",
   "execution_count": 57,
   "metadata": {},
   "outputs": [],
   "source": [
    "ml_data = df3.select('features', 'weight')"
   ]
  },
  {
   "cell_type": "code",
   "execution_count": 60,
   "metadata": {},
   "outputs": [
    {
     "name": "stdout",
     "output_type": "stream",
     "text": [
      "+---------------+------+\n",
      "|       features|weight|\n",
      "+---------------+------+\n",
      "|[18393.0,168.0]|  62.0|\n",
      "|[20228.0,156.0]|  85.0|\n",
      "|[18857.0,165.0]|  64.0|\n",
      "|[17623.0,169.0]|  82.0|\n",
      "|[17474.0,156.0]|  56.0|\n",
      "|[21914.0,151.0]|  67.0|\n",
      "|[22113.0,157.0]|  93.0|\n",
      "|[22584.0,178.0]|  95.0|\n",
      "|[17668.0,158.0]|  71.0|\n",
      "|[19834.0,164.0]|  68.0|\n",
      "|[22530.0,169.0]|  80.0|\n",
      "|[18815.0,173.0]|  60.0|\n",
      "|[14791.0,165.0]|  60.0|\n",
      "|[19809.0,158.0]|  78.0|\n",
      "|[14532.0,181.0]|  95.0|\n",
      "|[16782.0,172.0]| 112.0|\n",
      "|[21296.0,170.0]|  75.0|\n",
      "|[16747.0,158.0]|  52.0|\n",
      "|[17482.0,154.0]|  68.0|\n",
      "|[21755.0,162.0]|  56.0|\n",
      "+---------------+------+\n",
      "only showing top 20 rows\n",
      "\n"
     ]
    }
   ],
   "source": [
    "ml_data.show()"
   ]
  },
  {
   "cell_type": "code",
   "execution_count": 61,
   "metadata": {},
   "outputs": [],
   "source": [
    "from pyspark.ml.regression import LinearRegression\n",
    "train_data, test_data = ml_data.randomSplit([0.75,0.25])\n",
    "regressor=LinearRegression(featuresCol='features',labelCol='weight')\\\n",
    "          .fit(train_data)"
   ]
  },
  {
   "cell_type": "code",
   "execution_count": 62,
   "metadata": {},
   "outputs": [
    {
     "data": {
      "text/plain": [
       "DenseVector([0.0004, 0.5233])"
      ]
     },
     "execution_count": 62,
     "metadata": {},
     "output_type": "execute_result"
    }
   ],
   "source": [
    "regressor.coefficients"
   ]
  },
  {
   "cell_type": "code",
   "execution_count": 63,
   "metadata": {},
   "outputs": [
    {
     "data": {
      "text/plain": [
       "-20.52749800986883"
      ]
     },
     "execution_count": 63,
     "metadata": {},
     "output_type": "execute_result"
    }
   ],
   "source": [
    "regressor.intercept"
   ]
  },
  {
   "cell_type": "code",
   "execution_count": 64,
   "metadata": {},
   "outputs": [],
   "source": [
    "prediction = regressor.evaluate(test_data)"
   ]
  },
  {
   "cell_type": "code",
   "execution_count": 66,
   "metadata": {},
   "outputs": [
    {
     "name": "stderr",
     "output_type": "stream",
     "text": [
      "C:\\ProgramData\\Anaconda3\\lib\\site-packages\\pyspark\\sql\\context.py:127: FutureWarning: Deprecated in 3.0.0. Use SparkSession.builder.getOrCreate() instead.\n",
      "  FutureWarning\n"
     ]
    },
    {
     "name": "stdout",
     "output_type": "stream",
     "text": [
      "+---------------+------+-----------------+\n",
      "|       features|weight|       prediction|\n",
      "+---------------+------+-----------------+\n",
      "|[10859.0,159.0]|  59.0|67.56444092713329|\n",
      "|[14275.0,164.0]| 105.0|71.71792053378374|\n",
      "|[14284.0,156.0]|  70.0|67.53549214625201|\n",
      "|[14293.0,166.0]| 100.0|72.77263853637814|\n",
      "|[14293.0,182.0]|  75.0|81.14559389429627|\n",
      "|[14294.0,172.0]|  74.0|75.91294671686714|\n",
      "|[14295.0,157.0]|  71.0|68.06375099008861|\n",
      "|[14297.0,175.0]|  70.0|77.48422561028588|\n",
      "|[14300.0,168.0]|  96.0|73.82240740500583|\n",
      "|[14302.0,153.0]|  57.0|  65.973661599497|\n",
      "|[14303.0,164.0]|  62.0|71.73051832933541|\n",
      "|[14307.0,165.0]|  65.0| 72.2556277242841|\n",
      "|[14308.0,166.0]|  44.0|72.77938735542367|\n",
      "|[14308.0,177.0]|  91.0|78.53579416399236|\n",
      "|[14309.0,160.0]|  52.0|69.63997901747408|\n",
      "|[14310.0,156.0]|  62.0|67.54719009926427|\n",
      "|[14315.0,157.0]|  83.0|68.07274941548266|\n",
      "|[14315.0,167.0]| 112.0|73.30584651418147|\n",
      "|[14319.0,158.0]|  60.0|68.59785881043135|\n",
      "|[14321.0,173.0]|  81.0|76.44840430101897|\n",
      "+---------------+------+-----------------+\n",
      "only showing top 20 rows\n",
      "\n"
     ]
    }
   ],
   "source": [
    "prediction.predictions.show()"
   ]
  },
  {
   "cell_type": "code",
   "execution_count": 68,
   "metadata": {},
   "outputs": [
    {
     "data": {
      "text/plain": [
       "187.60874223282576"
      ]
     },
     "execution_count": 68,
     "metadata": {},
     "output_type": "execute_result"
    }
   ],
   "source": [
    "prediction.meanSquaredError"
   ]
  },
  {
   "cell_type": "code",
   "execution_count": 69,
   "metadata": {},
   "outputs": [
    {
     "data": {
      "text/plain": [
       "<pyspark.ml.regression.LinearRegressionSummary at 0x25694bb70f0>"
      ]
     },
     "execution_count": 69,
     "metadata": {},
     "output_type": "execute_result"
    }
   ],
   "source": [
    "prediction"
   ]
  },
  {
   "cell_type": "code",
   "execution_count": 70,
   "metadata": {},
   "outputs": [
    {
     "data": {
      "text/plain": [
       "['__class__',\n",
       " '__del__',\n",
       " '__delattr__',\n",
       " '__dict__',\n",
       " '__dir__',\n",
       " '__doc__',\n",
       " '__eq__',\n",
       " '__format__',\n",
       " '__ge__',\n",
       " '__getattribute__',\n",
       " '__gt__',\n",
       " '__hash__',\n",
       " '__init__',\n",
       " '__init_subclass__',\n",
       " '__le__',\n",
       " '__lt__',\n",
       " '__module__',\n",
       " '__ne__',\n",
       " '__new__',\n",
       " '__reduce__',\n",
       " '__reduce_ex__',\n",
       " '__repr__',\n",
       " '__setattr__',\n",
       " '__sizeof__',\n",
       " '__str__',\n",
       " '__subclasshook__',\n",
       " '__weakref__',\n",
       " '_call_java',\n",
       " '_create_from_java_class',\n",
       " '_java_obj',\n",
       " '_new_java_array',\n",
       " '_new_java_obj',\n",
       " 'coefficientStandardErrors',\n",
       " 'degreesOfFreedom',\n",
       " 'devianceResiduals',\n",
       " 'explainedVariance',\n",
       " 'featuresCol',\n",
       " 'labelCol',\n",
       " 'meanAbsoluteError',\n",
       " 'meanSquaredError',\n",
       " 'numInstances',\n",
       " 'pValues',\n",
       " 'predictionCol',\n",
       " 'predictions',\n",
       " 'r2',\n",
       " 'r2adj',\n",
       " 'residuals',\n",
       " 'rootMeanSquaredError',\n",
       " 'tValues']"
      ]
     },
     "execution_count": 70,
     "metadata": {},
     "output_type": "execute_result"
    }
   ],
   "source": [
    "dir(prediction)"
   ]
  },
  {
   "cell_type": "code",
   "execution_count": null,
   "metadata": {},
   "outputs": [],
   "source": []
  }
 ],
 "metadata": {
  "kernelspec": {
   "display_name": "Python 3",
   "language": "python",
   "name": "python3"
  },
  "language_info": {
   "codemirror_mode": {
    "name": "ipython",
    "version": 3
   },
   "file_extension": ".py",
   "mimetype": "text/x-python",
   "name": "python",
   "nbconvert_exporter": "python",
   "pygments_lexer": "ipython3",
   "version": "3.7.3"
  },
  "varInspector": {
   "cols": {
    "lenName": 16,
    "lenType": 16,
    "lenVar": 40
   },
   "kernels_config": {
    "python": {
     "delete_cmd_postfix": "",
     "delete_cmd_prefix": "del ",
     "library": "var_list.py",
     "varRefreshCmd": "print(var_dic_list())"
    },
    "r": {
     "delete_cmd_postfix": ") ",
     "delete_cmd_prefix": "rm(",
     "library": "var_list.r",
     "varRefreshCmd": "cat(var_dic_list()) "
    }
   },
   "types_to_exclude": [
    "module",
    "function",
    "builtin_function_or_method",
    "instance",
    "_Feature"
   ],
   "window_display": false
  }
 },
 "nbformat": 4,
 "nbformat_minor": 4
}
